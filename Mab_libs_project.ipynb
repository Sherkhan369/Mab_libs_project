{
  "nbformat": 4,
  "nbformat_minor": 0,
  "metadata": {
    "colab": {
      "provenance": [],
      "authorship_tag": "ABX9TyOlNd9e64gzf4ZoRbaRH+hR",
      "include_colab_link": true
    },
    "kernelspec": {
      "name": "python3",
      "display_name": "Python 3"
    },
    "language_info": {
      "name": "python"
    }
  },
  "cells": [
    {
      "cell_type": "markdown",
      "metadata": {
        "id": "view-in-github",
        "colab_type": "text"
      },
      "source": [
        "<a href=\"https://colab.research.google.com/github/Sherkhan369/Mab_libs_project/blob/main/Mab_libs_project.ipynb\" target=\"_parent\"><img src=\"https://colab.research.google.com/assets/colab-badge.svg\" alt=\"Open In Colab\"/></a>"
      ]
    },
    {
      "cell_type": "code",
      "source": [
        "print(\"Welcome to Mad Libs!\")\n",
        "\n",
        "# Ask the user for inputs\n",
        "noun = input(\"Enter a noun: \")\n",
        "adjective = input(\"Enter an adjective: \")\n",
        "verb = input(\"Enter a verb: \")\n",
        "place = input(\"Enter a place: \")\n",
        "animal = input(\"Enter an animal: \")\n",
        "\n",
        "# Story template\n",
        "story = f\"\"\"\n",
        "One day, I went to the {place} and saw a {adjective} {animal}.\n",
        "It was trying to {verb} a {noun}.\n",
        "Everyone around was shocked, but I found it hilarious!\n",
        "\"\"\"\n",
        "\n",
        "# Output the final story\n",
        "print(\"\\nHere is your Mad Libs story:\")\n",
        "print(story)\n"
      ],
      "metadata": {
        "id": "yleDvHI31kM_"
      },
      "execution_count": null,
      "outputs": []
    }
  ]
}