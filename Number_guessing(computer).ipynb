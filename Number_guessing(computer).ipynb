{
  "nbformat": 4,
  "nbformat_minor": 0,
  "metadata": {
    "colab": {
      "provenance": [],
      "authorship_tag": "ABX9TyN0v78pSij6xL7HkDaDDeT7",
      "include_colab_link": true
    },
    "kernelspec": {
      "name": "python3",
      "display_name": "Python 3"
    },
    "language_info": {
      "name": "python"
    }
  },
  "cells": [
    {
      "cell_type": "markdown",
      "metadata": {
        "id": "view-in-github",
        "colab_type": "text"
      },
      "source": [
        "<a href=\"https://colab.research.google.com/github/Sherkhan369/Mab_libs_project/blob/main/Number_guessing(computer).ipynb\" target=\"_parent\"><img src=\"https://colab.research.google.com/assets/colab-badge.svg\" alt=\"Open In Colab\"/></a>"
      ]
    },
    {
      "cell_type": "code",
      "execution_count": null,
      "metadata": {
        "id": "DQHxOaXk_dGb"
      },
      "outputs": [],
      "source": [
        "import random\n",
        "\n",
        "#  Computer selects a random number\n",
        "secret_number = random.randint(1, 100)\n",
        "\n",
        "#  Welcome message\n",
        "print(\"Welcome to the Guess the Number Game!\")\n",
        "print(\"I have picked a number between 1 and 100. Can you guess it?\")\n",
        "\n",
        "#  Start guessing loop\n",
        "while True:\n",
        "    guess = input(\"Enter your guess: \")\n",
        "\n",
        "    #  if input is a number\n",
        "    if not guess.isdigit():\n",
        "        print(\"Please enter a valid number.\")\n",
        "        continue\n",
        "\n",
        "    guess = int(guess)\n",
        "\n",
        "    #  secret number\n",
        "    if guess < secret_number:\n",
        "        print(\"Too low! Try again.\")\n",
        "    elif guess > secret_number:\n",
        "        print(\"Too high! Try again.\")\n",
        "    else:\n",
        "        print(\"🎉 Congratulations! You guessed the correct number.\")\n",
        "        break\n"
      ]
    }
  ]
}