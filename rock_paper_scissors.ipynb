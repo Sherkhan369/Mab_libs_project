{
  "nbformat": 4,
  "nbformat_minor": 0,
  "metadata": {
    "colab": {
      "provenance": [],
      "authorship_tag": "ABX9TyP5/GmNKbZnva+SISpRaorF",
      "include_colab_link": true
    },
    "kernelspec": {
      "name": "python3",
      "display_name": "Python 3"
    },
    "language_info": {
      "name": "python"
    }
  },
  "cells": [
    {
      "cell_type": "markdown",
      "metadata": {
        "id": "view-in-github",
        "colab_type": "text"
      },
      "source": [
        "<a href=\"https://colab.research.google.com/github/Sherkhan369/Mab_libs_project/blob/main/rock_paper_scissors.ipynb\" target=\"_parent\"><img src=\"https://colab.research.google.com/assets/colab-badge.svg\" alt=\"Open In Colab\"/></a>"
      ]
    },
    {
      "cell_type": "markdown",
      "source": [
        " Rock, paper, scissors Python Project\n"
      ],
      "metadata": {
        "id": "eVV6qQE9OFqC"
      }
    },
    {
      "cell_type": "code",
      "execution_count": 1,
      "metadata": {
        "colab": {
          "base_uri": "https://localhost:8080/"
        },
        "id": "tom-rwZ9NoFe",
        "outputId": "f807eab6-9c03-45a2-872c-8ade5d5c6680"
      },
      "outputs": [
        {
          "output_type": "stream",
          "name": "stdout",
          "text": [
            "Enter your choice (rock, paper, scissors): paper\n",
            "\n",
            "You chose paper, computer chose scissors.\n",
            "\n",
            "Scissors cuts paper! You lose.\n"
          ]
        }
      ],
      "source": [
        "# prompt:  Rock, paper, scissors Python Project\n",
        "\n",
        "import random\n",
        "\n",
        "def play_rock_paper_scissors():\n",
        "    \"\"\"Plays a game of Rock, Paper, Scissors against the computer.\"\"\"\n",
        "\n",
        "    user_choice = input(\"Enter your choice (rock, paper, scissors): \").lower()\n",
        "    possible_actions = [\"rock\", \"paper\", \"scissors\"]\n",
        "\n",
        "    if user_choice not in possible_actions:\n",
        "        print(\"Invalid choice. Please choose from rock, paper, or scissors.\")\n",
        "        return\n",
        "\n",
        "    computer_choice = random.choice(possible_actions)\n",
        "    print(f\"\\nYou chose {user_choice}, computer chose {computer_choice}.\\n\")\n",
        "\n",
        "    if user_choice == computer_choice:\n",
        "        print(f\"Both players selected {user_choice}. It's a tie!\")\n",
        "    elif user_choice == \"rock\":\n",
        "        if computer_choice == \"scissors\":\n",
        "            print(\"Rock smashes scissors! You win!\")\n",
        "        else:\n",
        "            print(\"Paper covers rock! You lose.\")\n",
        "    elif user_choice == \"paper\":\n",
        "        if computer_choice == \"rock\":\n",
        "            print(\"Paper covers rock! You win!\")\n",
        "        else:\n",
        "            print(\"Scissors cuts paper! You lose.\")\n",
        "    elif user_choice == \"scissors\":\n",
        "        if computer_choice == \"paper\":\n",
        "            print(\"Scissors cuts paper! You win!\")\n",
        "        else:\n",
        "            print(\"Rock smashes scissors! You lose.\")\n",
        "\n",
        "# Start the game\n",
        "play_rock_paper_scissors()\n"
      ]
    }
  ]
}