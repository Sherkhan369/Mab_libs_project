{
  "nbformat": 4,
  "nbformat_minor": 0,
  "metadata": {
    "colab": {
      "provenance": [],
      "authorship_tag": "ABX9TyPY1/NIkPlkl9sWanHqCuA5",
      "include_colab_link": true
    },
    "kernelspec": {
      "name": "python3",
      "display_name": "Python 3"
    },
    "language_info": {
      "name": "python"
    }
  },
  "cells": [
    {
      "cell_type": "markdown",
      "metadata": {
        "id": "view-in-github",
        "colab_type": "text"
      },
      "source": [
        "<a href=\"https://colab.research.google.com/github/Sherkhan369/Mab_libs_project/blob/main/BMI_Calculator_Web_App.ipynb\" target=\"_parent\"><img src=\"https://colab.research.google.com/assets/colab-badge.svg\" alt=\"Open In Colab\"/></a>"
      ]
    },
    {
      "cell_type": "code",
      "execution_count": null,
      "metadata": {
        "id": "gR4J3scizw9g"
      },
      "outputs": [],
      "source": [
        "# prompt:  Create a Python Streamlit BMI Calculator Web App in Just 6 Minutes\n",
        "\n",
        "import streamlit as st\n",
        "\n",
        "st.title(\"BMI Calculator\")\n",
        "\n",
        "weight = st.number_input(\"Enter your weight in kilograms\", min_value=0.0)\n",
        "height = st.number_input(\"Enter your height in meters\", min_value=0.0)\n",
        "\n",
        "if st.button(\"Calculate BMI\"):\n",
        "    if weight > 0 and height > 0:\n",
        "        bmi = weight / (height ** 2)\n",
        "        st.write(f\"Your BMI is: {bmi:.2f}\")\n",
        "\n",
        "        if bmi < 18.5:\n",
        "            st.write(\"You are underweight.\")\n",
        "        elif bmi < 25:\n",
        "            st.write(\"You are in a healthy weight range.\")\n",
        "        elif bmi < 30:\n",
        "            st.write(\"You are overweight.\")\n",
        "        else:\n",
        "            st.write(\"You are obese.\")\n",
        "    else:\n",
        "        st.write(\"Please enter valid weight and height values.\")\n"
      ]
    },
    {
      "cell_type": "markdown",
      "source": [
        "# New Section"
      ],
      "metadata": {
        "id": "VMTV300a0RyK"
      }
    }
  ]
}