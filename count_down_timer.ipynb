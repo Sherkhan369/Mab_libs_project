{
  "nbformat": 4,
  "nbformat_minor": 0,
  "metadata": {
    "colab": {
      "provenance": [],
      "authorship_tag": "ABX9TyMT3hUJJKAi8TOmzpozm9Bv",
      "include_colab_link": true
    },
    "kernelspec": {
      "name": "python3",
      "display_name": "Python 3"
    },
    "language_info": {
      "name": "python"
    }
  },
  "cells": [
    {
      "cell_type": "markdown",
      "metadata": {
        "id": "view-in-github",
        "colab_type": "text"
      },
      "source": [
        "<a href=\"https://colab.research.google.com/github/Sherkhan369/Mab_libs_project/blob/main/count_down_timer.ipynb\" target=\"_parent\"><img src=\"https://colab.research.google.com/assets/colab-badge.svg\" alt=\"Open In Colab\"/></a>"
      ]
    },
    {
      "cell_type": "markdown",
      "source": [
        "Count down timer python project"
      ],
      "metadata": {
        "id": "mdT1O6tJC-Nk"
      }
    },
    {
      "cell_type": "code",
      "execution_count": null,
      "metadata": {
        "id": "4Gg8rEQeC0bn"
      },
      "outputs": [],
      "source": [
        "import time\n",
        "\n",
        "def countdown_timer():\n",
        "    print(\"Enter the countdown time:\")\n",
        "    minutes = int(input(\"Minutes: \"))\n",
        "    seconds = int(input(\"Seconds: \"))\n",
        "\n",
        "    total_seconds = minutes * 60 + seconds\n",
        "\n",
        "    while total_seconds:\n",
        "        mins, secs = divmod(total_seconds, 60)\n",
        "        timer = f'{mins:02d}:{secs:02d}'\n",
        "        print(timer, end='\\r')\n",
        "        time.sleep(1)\n",
        "        total_seconds -= 1\n",
        "\n",
        "    print(\"00:00\")\n",
        "    print(\"⏰ Time's up!\")\n",
        "\n",
        "# Run the timer\n",
        "countdown_timer()\n"
      ]
    }
  ]
}