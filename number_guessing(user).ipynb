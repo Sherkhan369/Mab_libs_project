{
  "nbformat": 4,
  "nbformat_minor": 0,
  "metadata": {
    "colab": {
      "provenance": [],
      "authorship_tag": "ABX9TyM99gmKzX3x/4q7sQkm9pYg",
      "include_colab_link": true
    },
    "kernelspec": {
      "name": "python3",
      "display_name": "Python 3"
    },
    "language_info": {
      "name": "python"
    }
  },
  "cells": [
    {
      "cell_type": "markdown",
      "metadata": {
        "id": "view-in-github",
        "colab_type": "text"
      },
      "source": [
        "<a href=\"https://colab.research.google.com/github/Sherkhan369/Mab_libs_project/blob/main/number_guessing(user).ipynb\" target=\"_parent\"><img src=\"https://colab.research.google.com/assets/colab-badge.svg\" alt=\"Open In Colab\"/></a>"
      ]
    },
    {
      "cell_type": "code",
      "execution_count": null,
      "metadata": {
        "id": "h55xUCHlA0NO"
      },
      "outputs": [],
      "source": [
        "import random\n",
        "print(\"Welcome to the game,this is a number gussing game \\n you got 5 attempts to guess the number between 50 and 100 lets start the game!\")\n",
        "\n",
        "number_to_guess = random.randrange(50,100)\n",
        "chances = 5\n",
        "guess_counter =0\n",
        "\n",
        "while guess_counter < number_to_guess:\n",
        "    guess_counter += 1\n",
        "    my_guess =int(input(\"Please enter your guess:\"))\n",
        "\n",
        "    if my_guess == number_to_guess:\n",
        "        print(f\"The number is {number_to_guess} and you found it right in the {guess_counter} attemt\")\n",
        "        break\n",
        "    elif guess_counter >= chances and my_guess != number_to_guess:\n",
        "        print(f\"Opps sorry,the number is {number_to_guess} better luck next time!\")\n",
        "\n",
        "    elif my_guess < number_to_guess:\n",
        "        print(\"your guess is very low, try again!\")\n",
        "\n",
        "    elif my_guess > number_to_guess:\n",
        "        print(\"your guess is very high,try again!\")"
      ]
    }
  ]
}