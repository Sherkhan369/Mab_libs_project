{
  "nbformat": 4,
  "nbformat_minor": 0,
  "metadata": {
    "colab": {
      "provenance": [],
      "authorship_tag": "ABX9TyOJzyJt0ED+0TleCPDzrAOw",
      "include_colab_link": true
    },
    "kernelspec": {
      "name": "python3",
      "display_name": "Python 3"
    },
    "language_info": {
      "name": "python"
    }
  },
  "cells": [
    {
      "cell_type": "markdown",
      "metadata": {
        "id": "view-in-github",
        "colab_type": "text"
      },
      "source": [
        "<a href=\"https://colab.research.google.com/github/Sherkhan369/Mab_libs_project/blob/main/Untitled2.ipynb\" target=\"_parent\"><img src=\"https://colab.research.google.com/assets/colab-badge.svg\" alt=\"Open In Colab\"/></a>"
      ]
    },
    {
      "cell_type": "code",
      "execution_count": null,
      "metadata": {
        "id": "Vb5tgpYiOw4l"
      },
      "outputs": [],
      "source": [
        "# prompt:  Hangman Python Project\n",
        "\n",
        "import random\n",
        "\n",
        "def choose_word():\n",
        "  words = [\"python\", \"javascript\", \"programming\", \"computer\", \"science\", \"algorithm\", \"data\"]\n",
        "  return random.choice(words)\n",
        "\n",
        "def display_word(word, guessed_letters):\n",
        "  display = \"\"\n",
        "  for letter in word:\n",
        "    if letter in guessed_letters:\n",
        "      display += letter\n",
        "    else:\n",
        "      display += \"_\"\n",
        "  return display\n",
        "\n",
        "def hangman():\n",
        "  word = choose_word()\n",
        "  guessed_letters = set()\n",
        "  attempts_remaining = 6\n",
        "\n",
        "  print(\"Welcome to Hangman!\")\n",
        "  print(display_word(word, guessed_letters))\n",
        "\n",
        "  while attempts_remaining > 0 and \"_\" in display_word(word, guessed_letters):\n",
        "    guess = input(\"Guess a letter: \").lower()\n",
        "\n",
        "    if not guess.isalpha() or len(guess) != 1:\n",
        "      print(\"Invalid guess. Please enter a single letter.\")\n",
        "      continue\n",
        "\n",
        "    if guess in guessed_letters:\n",
        "      print(\"You already guessed that letter.\")\n",
        "      continue\n",
        "\n",
        "    guessed_letters.add(guess)\n",
        "\n",
        "    if guess in word:\n",
        "      print(\"Correct guess!\")\n",
        "    else:\n",
        "      attempts_remaining -= 1\n",
        "      print(f\"Incorrect guess. {attempts_remaining} attempts remaining.\")\n",
        "\n",
        "    print(display_word(word, guessed_letters))\n",
        "\n",
        "  if \"_\" not in display_word(word, guessed_letters):\n",
        "    print(f\"Congratulations! You guessed the word: {word}\")\n",
        "  else:\n",
        "    print(f\"You ran out of attempts. The word was: {word}\")\n",
        "\n",
        "if __name__ == \"__main__\":\n",
        "  hangman()\n"
      ]
    }
  ]
}